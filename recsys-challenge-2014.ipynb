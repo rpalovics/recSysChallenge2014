{
 "metadata": {
  "name": "",
  "signature": "sha256:cf0ad55b050530d300ae61542e03070f4d9825b51a9ba4de08577efd7837ec4e"
 },
 "nbformat": 3,
 "nbformat_minor": 0,
 "worksheets": [
  {
   "cells": [
    {
     "cell_type": "markdown",
     "metadata": {},
     "source": [
      "# Applying GraphLab Create on the RecSys Challenge 2014\n",
      "\n",
      "## RecSys Challenge 2014 \n",
      " \n",
      "* The 2014 Recommender Systems Challenge focused on predicting user engagement scores of users on movie related tweets.\n",
      "* Users can rate movies by using an IMDb application\n",
      "* The application automatically generates a tweet on Twitter\n",
      "* People can retweet or favourite those tweets\n",
      "* The task is to predict the engagement of these tweets, where\n",
      "* engagement = retweet_count + favourite_count"
     ]
    },
    {
     "cell_type": "markdown",
     "metadata": {},
     "source": [
      "## Applying GraphLab on the dataset of the challenge\n",
      "\n",
      "* Here we exclude the feature generation part\n",
      "* The final training and test set can be downloaded from\n",
      "https://dms.sztaki.hu/en/download/recsys-challenge-2014-ipython-notebooks\n",
      "* The documentation of the final features can be downloaded here:\n",
      "...\n",
      "* In what follows we give a brief summary of the most important features and feature sets.\n",
      "\n",
      "* Somehow ewe should emphasize reproducible research here"
     ]
    },
    {
     "cell_type": "markdown",
     "metadata": {},
     "source": [
      "### Exploring the dataset\n",
      "\n",
      "#### Basic properties\n",
      "\n",
      "|                                  | Training set     | Test set         |\n",
      "|:--------------------------------:|------------------|------------------|\n",
      "|Number of users                   | 22,079           | 5,717            |\n",
      "|Number of movies                  | 13,618           | 4,226            |\n",
      "|Number of tweets                  | 170,285          | 21,285           |\n",
      "|Number of zero engagement scores  | 162,108 (95.19%) | 19,727 (92.68%)  |\n",
      "|Earliest creation time            | 28/02/2013 14:43 | 8/01/2014 22:06  |\n",
      "|Latest creation time              | 8/01/2014 22:06  | 11/02/2014 15:49 |\n",
      "\n",
      "#### Train and Test overlap\n",
      "\n",
      "|                        | Users            |       Movies     |\n",
      "|:----------------------:|------------------|------------------|\n",
      "| Training set           | 22,079           |   13,618         |\n",
      "| Test set               | 5,717            |   4,226          |\n",
      "| Unique to training set | 17,838           |   10,090         |\n",
      "| Unique to test set     | 1,476            |   698            |\n",
      "| Apperaing in both      | 4,241            |   3,528          |\n",
      "\n",
      "#### Spammers\n",
      "\n",
      "* The training set contained spammers with tweets on Justin Bieber.\n",
      "* We excluded these tweets from the training data.\n",
      "* The dimensions of the training after removing the Bieber related tweets.\n",
      "\n",
      "|                                               |                  |\n",
      "|:---------------------------------------------:|------------------|\n",
      "| Number of users                               | 21,950           |\n",
      "| Number of movies                              | 13,618           |\n",
      "| Number of tweets                              | 170,155          |\n",
      "| Number of tweets with zero engagement score   | 162,107 (95.27%) |\n",
      "\n",
      "#### Edited tweets\n",
      "\n",
      "* Users can edit the automatically generated tweets\n",
      "* As a result, we identified edited tweets in the dataset with ratings larger than 10 or smaller than 1.\n",
      "* We set all ratings that are larger than 10 to 10.\n",
      "* We set all ratings that are smaller than 0 to 0.\n",
      "* After excluding the Bieber spammers, the properties of the final training set are\n",
      "\n",
      "#### Retweets\n",
      "\n",
      "* The dataset contains retweets.\n",
      "* This is weird, as the challenge is to predict engagement count that incorporates retweet count.\n",
      "* However this was a feature of the dataset that we had to use.\n",
      "* If a tweet is retweet, ist engagement score has to be larger than zero.\n",
      "* If a tweet is retweet, we immediatley know that the original \"root\" tweet's engagement is larger than zero\n",
      "* We introduce features \"tweet_is_retweet\" and \"tweet_has_retweet\", included in tha training and test sets.\n",
      "\n",
      "#### Transforming the problem to a classification problem\n",
      "\n",
      "* More than 90% percent of the tweets have 0 engagement score both in the training and test set.\n",
      "* The engagement score frequency distribution follows power-law distribution\n",
      "* Therefore we are only trying to guess if the tweets earns some engagement or not.\n",
      "* This is a binary classification / implicit recommendation problem\n",
      "* If we could perfectly solve the classification problem, we could achieve 0.986."
     ]
    },
    {
     "cell_type": "markdown",
     "metadata": {},
     "source": [
      "###Loading the Dataset to GraphLab\n",
      "\n",
      "* After downloading the datasets, we load into SFrames.\n",
      "* The features are documented in TODO.\n",
      "* The most important feature classes are\n",
      "   * tweet based features, e.g. the mention number of the given tweet,\n",
      "   * movie based features, e.g. the average rating of the movie on iMDB,\n",
      "   * user based features, e.g. the follower count of the user on Twitter,\n",
      "   * rating based features, e.g. the difference of the rating of the tweet and the movie's average rating"
     ]
    },
    {
     "cell_type": "code",
     "collapsed": false,
     "input": [
      "import graphlab\n",
      "graphlab.canvas.set_target('ipynb')"
     ],
     "language": "python",
     "metadata": {},
     "outputs": [],
     "prompt_number": 38
    },
    {
     "cell_type": "code",
     "collapsed": false,
     "input": [
      "import subprocess\n",
      "\n",
      "#subprocess.call(['wget','https://dms.sztaki.hu/sites/dms.sztaki.hu/files/download/2014/train.csv'])\n",
      "#subprocess.call(['wget','https://dms.sztaki.hu/sites/dms.sztaki.hu/files/download/2014/test.csv'])\n",
      "\n",
      "train_file_name = \"train.csv\"\n",
      "test_file_name = \"test.csv\"\n",
      "train = graphlab.SFrame.read_csv(train_file_name,delimiter=',',verbose=False)\n",
      "test = graphlab.SFrame.read_csv(test_file_name,delimiter=',',verbose=False)"
     ],
     "language": "python",
     "metadata": {},
     "outputs": [
      {
       "html": [
        "<pre>PROGRESS: Finished parsing file /home/rpalovics/challenge/train.csv</pre>"
       ],
       "metadata": {},
       "output_type": "display_data",
       "text": [
        "PROGRESS: Finished parsing file /home/rpalovics/challenge/train.csv"
       ]
      },
      {
       "html": [
        "<pre>PROGRESS: Parsing completed. Parsed 170155 lines in 1.02 secs.</pre>"
       ],
       "metadata": {},
       "output_type": "display_data",
       "text": [
        "PROGRESS: Parsing completed. Parsed 170155 lines in 1.02 secs."
       ]
      },
      {
       "output_type": "stream",
       "stream": "stdout",
       "text": [
        "------------------------------------------------------\n",
        "Inferred types from first line of file as \n",
        "column_type_hints=[int,int,int,int,float,int,int,int,int,int,int,int,int,int,int,int,float,float,int,int,int,int,float,float,float,int,int,int,int,int,int,float,float,int,int,int,int,int,int,int,int,int,int,int,int,int,int,int,int,int,int,int,int,int,int,int,int,int,int,int,int]\n",
        "If parsing fails due to incorrect types, you can correct\n",
        "the inferred type list above and pass it to read_csv in\n",
        "the column_type_hints argument\n",
        "------------------------------------------------------\n",
        "------------------------------------------------------"
       ]
      },
      {
       "html": [
        "<pre>PROGRESS: Finished parsing file /home/rpalovics/challenge/test.csv</pre>"
       ],
       "metadata": {},
       "output_type": "display_data",
       "text": [
        "PROGRESS: Finished parsing file /home/rpalovics/challenge/test.csv"
       ]
      },
      {
       "html": [
        "<pre>PROGRESS: Parsing completed. Parsed 21285 lines in 0.12 secs.</pre>"
       ],
       "metadata": {},
       "output_type": "display_data",
       "text": [
        "PROGRESS: Parsing completed. Parsed 21285 lines in 0.12 secs."
       ]
      },
      {
       "output_type": "stream",
       "stream": "stdout",
       "text": [
        "\n",
        "Inferred types from first line of file as \n",
        "column_type_hints=[int,int,int,int,float,int,int,int,int,int,int,int,int,int,int,int,float,float,int,int,int,int,float,float,float,int,int,int,int,int,int,float,float,int,int,int,int,int,int,int,int,int,int,int,int,int,int,int,int,int,int,int,int,int,int,int,int,int,int,int,int]\n",
        "If parsing fails due to incorrect types, you can correct\n",
        "the inferred type list above and pass it to read_csv in\n",
        "the column_type_hints argument\n",
        "------------------------------------------------------\n"
       ]
      }
     ],
     "prompt_number": 39
    },
    {
     "cell_type": "markdown",
     "metadata": {},
     "source": [
      "### Setting up the individual models\n",
      "\n",
      "* Here we use three simple methods to build up our final solution\n",
      "* First one is a regression model with the most important features\n",
      "* Second is a gradient boosted tree from the supervised learning kit.\n",
      "* Third is a matrix factorization recommneder system\n",
      "* Finally we simply average the result of these methods to get the best results in the combination part\n",
      "\n"
     ]
    },
    {
     "cell_type": "code",
     "collapsed": false,
     "input": [
      "models = {}"
     ],
     "language": "python",
     "metadata": {},
     "outputs": [],
     "prompt_number": 40
    },
    {
     "cell_type": "markdown",
     "metadata": {},
     "source": [
      "#### Regression model\n",
      "* As discussed in the features part, the most important features are"
     ]
    },
    {
     "cell_type": "code",
     "collapsed": false,
     "input": [
      "features = ['rating_diff', 'rating', 'tweet_mention_num', 'tweet_is_retweet', 'tweet_has_retweet', 'rating_extreme']"
     ],
     "language": "python",
     "metadata": {},
     "outputs": [],
     "prompt_number": 41
    },
    {
     "cell_type": "markdown",
     "metadata": {},
     "source": [
      "* We train a regression model using only these features"
     ]
    },
    {
     "cell_type": "code",
     "collapsed": false,
     "input": [
      "models[\"regression\"] = graphlab.linear_regression.create(train,target='engagement_label',features=features,solver='newton',max_iterations=10,convergence_threshold=0.01,l2_penalty=0.001,verbose=False)\n",
      "print models[\"regression\"][\"coefficients\"]"
     ],
     "language": "python",
     "metadata": {},
     "outputs": [
      {
       "output_type": "stream",
       "stream": "stdout",
       "text": [
        "+-------------------+-------+------------------+\n",
        "|        name       | index |      value       |\n",
        "+-------------------+-------+------------------+\n",
        "|    (intercept)    |  None | -0.0365581436074 |\n",
        "|    rating_diff    |  None | 0.00508834193651 |\n",
        "|       rating      |  None | 0.00534203100488 |\n",
        "| tweet_mention_num |  None | 0.0624177308086  |\n",
        "|  tweet_is_retweet |  None |  0.901379097993  |\n",
        "| tweet_has_retweet |  None |  0.961245882793  |\n",
        "|   rating_extreme  |  None | 0.0402819438797  |\n",
        "+-------------------+-------+------------------+\n",
        "[7 rows x 3 columns]\n",
        "\n"
       ]
      }
     ],
     "prompt_number": 46
    },
    {
     "cell_type": "markdown",
     "metadata": {},
     "source": [
      "#### Gradient Boosted Trees"
     ]
    },
    {
     "cell_type": "code",
     "collapsed": false,
     "input": [
      "models[\"gradient_boosted_tree\"] = graphlab.boosted_trees_regression.create(train,target='engagement_label',max_iterations = 18,max_depth=6,verbose=False)"
     ],
     "language": "python",
     "metadata": {},
     "outputs": [],
     "prompt_number": 22
    },
    {
     "cell_type": "markdown",
     "metadata": {},
     "source": [
      "#### Matrix factorization"
     ]
    },
    {
     "cell_type": "code",
     "collapsed": false,
     "input": [
      "models[\"matrix_factorization\"] = graphlab.factorization_recommender.create(train,user_id='user_id',item_id='movie_id',target='engagement_label', regularization=6*10e-6, num_factors = 8, verbose= False, side_data_factorization=True)"
     ],
     "language": "python",
     "metadata": {},
     "outputs": [
      {
       "html": [
        "<pre>PROGRESS: Recsys training: model = factorization_recommender</pre>"
       ],
       "metadata": {},
       "output_type": "display_data",
       "text": [
        "PROGRESS: Recsys training: model = factorization_recommender"
       ]
      }
     ],
     "prompt_number": 36
    },
    {
     "cell_type": "markdown",
     "metadata": {},
     "source": [
      "### Final combination"
     ]
    },
    {
     "cell_type": "code",
     "collapsed": false,
     "input": [
      "predictions = {}\n",
      "for key in models.keys():\n",
      "  predictions[key] = models[key].predict(test)"
     ],
     "language": "python",
     "metadata": {},
     "outputs": [],
     "prompt_number": 24
    },
    {
     "cell_type": "code",
     "collapsed": false,
     "input": [
      "final_test = test.select_columns([\"user_id\",\"tweet_id\",\"engagement_label\"])\n",
      "for key in predictions.keys():\n",
      "  final_test.add_column(predictions[key],key)"
     ],
     "language": "python",
     "metadata": {},
     "outputs": [],
     "prompt_number": 25
    },
    {
     "cell_type": "code",
     "collapsed": false,
     "input": [
      "final_test.add_column(test[\"rating_extreme\"],\"rating_extreme\")\n",
      "final_test.add_column(test.apply(lambda x: x[\"tweet_has_retweet\"] + x[\"tweet_is_retweet\"]),\"retweet\")\n",
      "final_test.add_column(final_test.apply(lambda x: x['regression']  + x['gradient_boosted_tree'] + x['matrix_factorization'] + 10 * x['retweet'] + 0.1 * x['rating_extreme']),'combination')"
     ],
     "language": "python",
     "metadata": {},
     "outputs": [
      {
       "html": [
        "<div style=\"max-height:1000px;max-width:1500px;overflow:auto;\"><table frame=\"box\" rules=\"cols\">\n",
        "    <tr>\n",
        "        <th style=\"padding-left: 1em; padding-right: 1em; text-align: center\">user_id</th>\n",
        "        <th style=\"padding-left: 1em; padding-right: 1em; text-align: center\">tweet_id</th>\n",
        "        <th style=\"padding-left: 1em; padding-right: 1em; text-align: center\">engagement_label</th>\n",
        "        <th style=\"padding-left: 1em; padding-right: 1em; text-align: center\">gradient_boosted_tree</th>\n",
        "        <th style=\"padding-left: 1em; padding-right: 1em; text-align: center\">regression</th>\n",
        "        <th style=\"padding-left: 1em; padding-right: 1em; text-align: center\">matrix_factorization</th>\n",
        "    </tr>\n",
        "    <tr>\n",
        "        <td style=\"padding-left: 1em; padding-right: 1em; text-align: center; vertical-align: top\">1493803398</td>\n",
        "        <td style=\"padding-left: 1em; padding-right: 1em; text-align: center; vertical-align: top\">421163197509271552</td>\n",
        "        <td style=\"padding-left: 1em; padding-right: 1em; text-align: center; vertical-align: top\">0</td>\n",
        "        <td style=\"padding-left: 1em; padding-right: 1em; text-align: center; vertical-align: top\">0.0124489932136</td>\n",
        "        <td style=\"padding-left: 1em; padding-right: 1em; text-align: center; vertical-align: top\">0.0280157657552</td>\n",
        "        <td style=\"padding-left: 1em; padding-right: 1em; text-align: center; vertical-align: top\">-0.0174310110907</td>\n",
        "    </tr>\n",
        "    <tr>\n",
        "        <td style=\"padding-left: 1em; padding-right: 1em; text-align: center; vertical-align: top\">28817548</td>\n",
        "        <td style=\"padding-left: 1em; padding-right: 1em; text-align: center; vertical-align: top\">421782651134279680</td>\n",
        "        <td style=\"padding-left: 1em; padding-right: 1em; text-align: center; vertical-align: top\">0</td>\n",
        "        <td style=\"padding-left: 1em; padding-right: 1em; text-align: center; vertical-align: top\">0.0393119555075</td>\n",
        "        <td style=\"padding-left: 1em; padding-right: 1em; text-align: center; vertical-align: top\">0.0353506543734</td>\n",
        "        <td style=\"padding-left: 1em; padding-right: 1em; text-align: center; vertical-align: top\">0.368762725333</td>\n",
        "    </tr>\n",
        "    <tr>\n",
        "        <td style=\"padding-left: 1em; padding-right: 1em; text-align: center; vertical-align: top\">22407039</td>\n",
        "        <td style=\"padding-left: 1em; padding-right: 1em; text-align: center; vertical-align: top\">421046616137924610</td>\n",
        "        <td style=\"padding-left: 1em; padding-right: 1em; text-align: center; vertical-align: top\">0</td>\n",
        "        <td style=\"padding-left: 1em; padding-right: 1em; text-align: center; vertical-align: top\">0.00937047346015</td>\n",
        "        <td style=\"padding-left: 1em; padding-right: 1em; text-align: center; vertical-align: top\">0.0191968537172</td>\n",
        "        <td style=\"padding-left: 1em; padding-right: 1em; text-align: center; vertical-align: top\">0.122133738412</td>\n",
        "    </tr>\n",
        "    <tr>\n",
        "        <td style=\"padding-left: 1em; padding-right: 1em; text-align: center; vertical-align: top\">14095248</td>\n",
        "        <td style=\"padding-left: 1em; padding-right: 1em; text-align: center; vertical-align: top\">422418127599960067</td>\n",
        "        <td style=\"padding-left: 1em; padding-right: 1em; text-align: center; vertical-align: top\">0</td>\n",
        "        <td style=\"padding-left: 1em; padding-right: 1em; text-align: center; vertical-align: top\">0.0381865931289</td>\n",
        "        <td style=\"padding-left: 1em; padding-right: 1em; text-align: center; vertical-align: top\">0.0336129418853</td>\n",
        "        <td style=\"padding-left: 1em; padding-right: 1em; text-align: center; vertical-align: top\">0.0833612896355</td>\n",
        "    </tr>\n",
        "    <tr>\n",
        "        <td style=\"padding-left: 1em; padding-right: 1em; text-align: center; vertical-align: top\">106522454</td>\n",
        "        <td style=\"padding-left: 1em; padding-right: 1em; text-align: center; vertical-align: top\">426452967802142724</td>\n",
        "        <td style=\"padding-left: 1em; padding-right: 1em; text-align: center; vertical-align: top\">0</td>\n",
        "        <td style=\"padding-left: 1em; padding-right: 1em; text-align: center; vertical-align: top\">0.0378503996508</td>\n",
        "        <td style=\"padding-left: 1em; padding-right: 1em; text-align: center; vertical-align: top\">0.0338241517924</td>\n",
        "        <td style=\"padding-left: 1em; padding-right: 1em; text-align: center; vertical-align: top\">0.00751589947449</td>\n",
        "    </tr>\n",
        "    <tr>\n",
        "        <td style=\"padding-left: 1em; padding-right: 1em; text-align: center; vertical-align: top\">69351047</td>\n",
        "        <td style=\"padding-left: 1em; padding-right: 1em; text-align: center; vertical-align: top\">424631137164873728</td>\n",
        "        <td style=\"padding-left: 1em; padding-right: 1em; text-align: center; vertical-align: top\">0</td>\n",
        "        <td style=\"padding-left: 1em; padding-right: 1em; text-align: center; vertical-align: top\">0.0168189623639</td>\n",
        "        <td style=\"padding-left: 1em; padding-right: 1em; text-align: center; vertical-align: top\">0.0191968537172</td>\n",
        "        <td style=\"padding-left: 1em; padding-right: 1em; text-align: center; vertical-align: top\">-0.0566503605084</td>\n",
        "    </tr>\n",
        "    <tr>\n",
        "        <td style=\"padding-left: 1em; padding-right: 1em; text-align: center; vertical-align: top\">743599747</td>\n",
        "        <td style=\"padding-left: 1em; padding-right: 1em; text-align: center; vertical-align: top\">426466861963051014</td>\n",
        "        <td style=\"padding-left: 1em; padding-right: 1em; text-align: center; vertical-align: top\">0</td>\n",
        "        <td style=\"padding-left: 1em; padding-right: 1em; text-align: center; vertical-align: top\">0.0189027651543</td>\n",
        "        <td style=\"padding-left: 1em; padding-right: 1em; text-align: center; vertical-align: top\">0.0091065842236</td>\n",
        "        <td style=\"padding-left: 1em; padding-right: 1em; text-align: center; vertical-align: top\">-0.0828630385315</td>\n",
        "    </tr>\n",
        "    <tr>\n",
        "        <td style=\"padding-left: 1em; padding-right: 1em; text-align: center; vertical-align: top\">19653119</td>\n",
        "        <td style=\"padding-left: 1em; padding-right: 1em; text-align: center; vertical-align: top\">421618740145291265</td>\n",
        "        <td style=\"padding-left: 1em; padding-right: 1em; text-align: center; vertical-align: top\">0</td>\n",
        "        <td style=\"padding-left: 1em; padding-right: 1em; text-align: center; vertical-align: top\">0.0677098163109</td>\n",
        "        <td style=\"padding-left: 1em; padding-right: 1em; text-align: center; vertical-align: top\">0.0391661827973</td>\n",
        "        <td style=\"padding-left: 1em; padding-right: 1em; text-align: center; vertical-align: top\">-0.049051754881</td>\n",
        "    </tr>\n",
        "    <tr>\n",
        "        <td style=\"padding-left: 1em; padding-right: 1em; text-align: center; vertical-align: top\">288316068</td>\n",
        "        <td style=\"padding-left: 1em; padding-right: 1em; text-align: center; vertical-align: top\">421451180875980800</td>\n",
        "        <td style=\"padding-left: 1em; padding-right: 1em; text-align: center; vertical-align: top\">0</td>\n",
        "        <td style=\"padding-left: 1em; padding-right: 1em; text-align: center; vertical-align: top\">0.0811174739193</td>\n",
        "        <td style=\"padding-left: 1em; padding-right: 1em; text-align: center; vertical-align: top\">0.0434055870924</td>\n",
        "        <td style=\"padding-left: 1em; padding-right: 1em; text-align: center; vertical-align: top\">0.147847184967</td>\n",
        "    </tr>\n",
        "    <tr>\n",
        "        <td style=\"padding-left: 1em; padding-right: 1em; text-align: center; vertical-align: top\">33179232</td>\n",
        "        <td style=\"padding-left: 1em; padding-right: 1em; text-align: center; vertical-align: top\">430805658045521920</td>\n",
        "        <td style=\"padding-left: 1em; padding-right: 1em; text-align: center; vertical-align: top\">0</td>\n",
        "        <td style=\"padding-left: 1em; padding-right: 1em; text-align: center; vertical-align: top\">0.0148226085702</td>\n",
        "        <td style=\"padding-left: 1em; padding-right: 1em; text-align: center; vertical-align: top\">0.0229274238187</td>\n",
        "        <td style=\"padding-left: 1em; padding-right: 1em; text-align: center; vertical-align: top\">0.0433983699965</td>\n",
        "    </tr>\n",
        "</table>\n",
        "<table frame=\"box\" rules=\"cols\">\n",
        "    <tr>\n",
        "        <th style=\"padding-left: 1em; padding-right: 1em; text-align: center\">rating_extreme</th>\n",
        "        <th style=\"padding-left: 1em; padding-right: 1em; text-align: center\">retweet</th>\n",
        "        <th style=\"padding-left: 1em; padding-right: 1em; text-align: center\">combination</th>\n",
        "    </tr>\n",
        "    <tr>\n",
        "        <td style=\"padding-left: 1em; padding-right: 1em; text-align: center; vertical-align: top\">0.7</td>\n",
        "        <td style=\"padding-left: 1em; padding-right: 1em; text-align: center; vertical-align: top\">0</td>\n",
        "        <td style=\"padding-left: 1em; padding-right: 1em; text-align: center; vertical-align: top\">0.093033747878</td>\n",
        "    </tr>\n",
        "    <tr>\n",
        "        <td style=\"padding-left: 1em; padding-right: 1em; text-align: center; vertical-align: top\">0.8</td>\n",
        "        <td style=\"padding-left: 1em; padding-right: 1em; text-align: center; vertical-align: top\">0</td>\n",
        "        <td style=\"padding-left: 1em; padding-right: 1em; text-align: center; vertical-align: top\">0.523425335214</td>\n",
        "    </tr>\n",
        "    <tr>\n",
        "        <td style=\"padding-left: 1em; padding-right: 1em; text-align: center; vertical-align: top\">0.5</td>\n",
        "        <td style=\"padding-left: 1em; padding-right: 1em; text-align: center; vertical-align: top\">0</td>\n",
        "        <td style=\"padding-left: 1em; padding-right: 1em; text-align: center; vertical-align: top\">0.200701065589</td>\n",
        "    </tr>\n",
        "    <tr>\n",
        "        <td style=\"padding-left: 1em; padding-right: 1em; text-align: center; vertical-align: top\">0.7</td>\n",
        "        <td style=\"padding-left: 1em; padding-right: 1em; text-align: center; vertical-align: top\">0</td>\n",
        "        <td style=\"padding-left: 1em; padding-right: 1em; text-align: center; vertical-align: top\">0.22516082465</td>\n",
        "    </tr>\n",
        "    <tr>\n",
        "        <td style=\"padding-left: 1em; padding-right: 1em; text-align: center; vertical-align: top\">0.8</td>\n",
        "        <td style=\"padding-left: 1em; padding-right: 1em; text-align: center; vertical-align: top\">0</td>\n",
        "        <td style=\"padding-left: 1em; padding-right: 1em; text-align: center; vertical-align: top\">0.159190450918</td>\n",
        "    </tr>\n",
        "    <tr>\n",
        "        <td style=\"padding-left: 1em; padding-right: 1em; text-align: center; vertical-align: top\">0.5</td>\n",
        "        <td style=\"padding-left: 1em; padding-right: 1em; text-align: center; vertical-align: top\">0</td>\n",
        "        <td style=\"padding-left: 1em; padding-right: 1em; text-align: center; vertical-align: top\">0.0293654555728</td>\n",
        "    </tr>\n",
        "    <tr>\n",
        "        <td style=\"padding-left: 1em; padding-right: 1em; text-align: center; vertical-align: top\">0.3</td>\n",
        "        <td style=\"padding-left: 1em; padding-right: 1em; text-align: center; vertical-align: top\">0</td>\n",
        "        <td style=\"padding-left: 1em; padding-right: 1em; text-align: center; vertical-align: top\">-0.0248536891535</td>\n",
        "    </tr>\n",
        "    <tr>\n",
        "        <td style=\"padding-left: 1em; padding-right: 1em; text-align: center; vertical-align: top\">0.8</td>\n",
        "        <td style=\"padding-left: 1em; padding-right: 1em; text-align: center; vertical-align: top\">0</td>\n",
        "        <td style=\"padding-left: 1em; padding-right: 1em; text-align: center; vertical-align: top\">0.137824244227</td>\n",
        "    </tr>\n",
        "    <tr>\n",
        "        <td style=\"padding-left: 1em; padding-right: 1em; text-align: center; vertical-align: top\">1.0</td>\n",
        "        <td style=\"padding-left: 1em; padding-right: 1em; text-align: center; vertical-align: top\">0</td>\n",
        "        <td style=\"padding-left: 1em; padding-right: 1em; text-align: center; vertical-align: top\">0.372370245979</td>\n",
        "    </tr>\n",
        "    <tr>\n",
        "        <td style=\"padding-left: 1em; padding-right: 1em; text-align: center; vertical-align: top\">0.7</td>\n",
        "        <td style=\"padding-left: 1em; padding-right: 1em; text-align: center; vertical-align: top\">0</td>\n",
        "        <td style=\"padding-left: 1em; padding-right: 1em; text-align: center; vertical-align: top\">0.151148402385</td>\n",
        "    </tr>\n",
        "    <tr>\n",
        "        <td style=\"padding-left: 1em; padding-right: 1em; text-align: center; vertical-align: top\">...</td>\n",
        "        <td style=\"padding-left: 1em; padding-right: 1em; text-align: center; vertical-align: top\">...</td>\n",
        "        <td style=\"padding-left: 1em; padding-right: 1em; text-align: center; vertical-align: top\">...</td>\n",
        "    </tr>\n",
        "</table>\n",
        "[21285 rows x 9 columns]<br/>Note: Only the head of the SFrame is printed.<br/>You can use print_rows(num_rows=m, num_columns=n) to print more rows and columns.\n",
        "</div>"
       ],
       "metadata": {},
       "output_type": "pyout",
       "prompt_number": 26,
       "text": [
        "Columns:\n",
        "\tuser_id\tint\n",
        "\ttweet_id\tint\n",
        "\tengagement_label\tint\n",
        "\tgradient_boosted_tree\tfloat\n",
        "\tregression\tfloat\n",
        "\tmatrix_factorization\tfloat\n",
        "\trating_extreme\tfloat\n",
        "\tretweet\tint\n",
        "\tcombination\tfloat\n",
        "\n",
        "Rows: 21285\n",
        "\n",
        "Data:\n",
        "+------------+--------------------+------------------+-----------------------+\n",
        "|  user_id   |      tweet_id      | engagement_label | gradient_boosted_tree |\n",
        "+------------+--------------------+------------------+-----------------------+\n",
        "| 1493803398 | 421163197509271552 |        0         |    0.0124489932136    |\n",
        "|  28817548  | 421782651134279680 |        0         |    0.0393119555075    |\n",
        "|  22407039  | 421046616137924610 |        0         |    0.00937047346015   |\n",
        "|  14095248  | 422418127599960067 |        0         |    0.0381865931289    |\n",
        "| 106522454  | 426452967802142724 |        0         |    0.0378503996508    |\n",
        "|  69351047  | 424631137164873728 |        0         |    0.0168189623639    |\n",
        "| 743599747  | 426466861963051014 |        0         |    0.0189027651543    |\n",
        "|  19653119  | 421618740145291265 |        0         |    0.0677098163109    |\n",
        "| 288316068  | 421451180875980800 |        0         |    0.0811174739193    |\n",
        "|  33179232  | 430805658045521920 |        0         |    0.0148226085702    |\n",
        "+------------+--------------------+------------------+-----------------------+\n",
        "+-----------------+----------------------+----------------+---------+\n",
        "|    regression   | matrix_factorization | rating_extreme | retweet |\n",
        "+-----------------+----------------------+----------------+---------+\n",
        "| 0.0280157657552 |   -0.0174310110907   |      0.7       |    0    |\n",
        "| 0.0353506543734 |    0.368762725333    |      0.8       |    0    |\n",
        "| 0.0191968537172 |    0.122133738412    |      0.5       |    0    |\n",
        "| 0.0336129418853 |   0.0833612896355    |      0.7       |    0    |\n",
        "| 0.0338241517924 |   0.00751589947449   |      0.8       |    0    |\n",
        "| 0.0191968537172 |   -0.0566503605084   |      0.5       |    0    |\n",
        "| 0.0091065842236 |   -0.0828630385315   |      0.3       |    0    |\n",
        "| 0.0391661827973 |   -0.049051754881    |      0.8       |    0    |\n",
        "| 0.0434055870924 |    0.147847184967    |      1.0       |    0    |\n",
        "| 0.0229274238187 |   0.0433983699965    |      0.7       |    0    |\n",
        "+-----------------+----------------------+----------------+---------+\n",
        "+------------------+\n",
        "|   combination    |\n",
        "+------------------+\n",
        "|  0.093033747878  |\n",
        "|  0.523425335214  |\n",
        "|  0.200701065589  |\n",
        "|  0.22516082465   |\n",
        "|  0.159190450918  |\n",
        "| 0.0293654555728  |\n",
        "| -0.0248536891535 |\n",
        "|  0.137824244227  |\n",
        "|  0.372370245979  |\n",
        "|  0.151148402385  |\n",
        "|       ...        |\n",
        "+------------------+\n",
        "[21285 rows x 9 columns]\n",
        "Note: Only the head of the SFrame is printed.\n",
        "You can use print_rows(num_rows=m, num_columns=n) to print more rows and columns."
       ]
      }
     ],
     "prompt_number": 26
    },
    {
     "cell_type": "code",
     "collapsed": false,
     "input": [
      "out = final_test.select_columns(['user_id','tweet_id','combination'])\n",
      "out.sort('user_id')\n",
      "out.save(\"out.csv\")"
     ],
     "language": "python",
     "metadata": {},
     "outputs": [],
     "prompt_number": 33
    },
    {
     "cell_type": "code",
     "collapsed": false,
     "input": [
      "import os\n",
      "os.system('java -jar rscevaluator-0.14-jar-with-dependencies.jar test_solution.dat out.csv > ndcg');"
     ],
     "language": "python",
     "metadata": {},
     "outputs": [],
     "prompt_number": 34
    },
    {
     "cell_type": "code",
     "collapsed": false,
     "input": [
      "cat ndcg"
     ],
     "language": "python",
     "metadata": {},
     "outputs": [
      {
       "output_type": "stream",
       "stream": "stdout",
       "text": [
        "RecSys Challenge 2014 Evaluator\r\n",
        "-------------------------------\r\n",
        "\r\n",
        "Evaluated 5717 users with predictions\r\n",
        "Validated against 5717 users in test set\r\n",
        "\r\n",
        "----------------------\r\n",
        "\r\n",
        "nDCG@10: 0.843143391208936\r\n",
        "\r\n",
        "\r\n",
        "\r\n"
       ]
      }
     ],
     "prompt_number": 47
    },
    {
     "cell_type": "code",
     "collapsed": false,
     "input": [],
     "language": "python",
     "metadata": {},
     "outputs": [],
     "prompt_number": 13
    }
   ],
   "metadata": {}
  }
 ]
}